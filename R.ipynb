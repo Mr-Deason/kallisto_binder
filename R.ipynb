{
 "cells": [
  {
   "cell_type": "code",
   "execution_count": 1,
   "metadata": {
    "collapsed": false
   },
   "outputs": [
    {
     "data": {
      "text/html": [
       "TRUE"
      ],
      "text/latex": [
       "TRUE"
      ],
      "text/markdown": [
       "TRUE"
      ],
      "text/plain": [
       "[1] TRUE"
      ]
     },
     "metadata": {},
     "output_type": "display_data"
    }
   ],
   "source": [
    "countToTpm <- function(counts, effLen)\n",
    "{\n",
    "    rate <- log(counts) - log(effLen)\n",
    "    denom <- log(sum(exp(rate)))\n",
    "    exp(rate - denom + log(1e6))\n",
    "}\n",
    " \n",
    "countToFpkm <- function(counts, effLen)\n",
    "{\n",
    "    N <- sum(counts)\n",
    "    exp( log(counts) + log(1e9) - log(effLen) - log(N) )\n",
    "}\n",
    " \n",
    "fpkmToTpm <- function(fpkm)\n",
    "{\n",
    "    exp(log(fpkm) - log(sum(fpkm)) + log(1e6))\n",
    "}\n",
    " \n",
    "countToEffCounts <- function(counts, len, effLen)\n",
    "{\n",
    "    counts * (len / effLen)\n",
    "}\n",
    "################################################################################\n",
    "# An example\n",
    "################################################################################\n",
    "cnts <- c(4250, 3300, 200, 1750, 50, 0)\n",
    "lens <- c(900, 1020, 2000, 770, 3000, 1777)\n",
    "countDf <- data.frame(count = cnts, length = lens)\n",
    " \n",
    "# assume a mean(FLD) = 203.7\n",
    "countDf$effLength <- countDf$length - 203.7 + 1\n",
    "countDf$tpm <- with(countDf, countToTpm(count, effLength))\n",
    "countDf$fpkm <- with(countDf, countToFpkm(count, effLength))\n",
    "with(countDf, all.equal(tpm, fpkmToTpm(fpkm)))\n",
    "countDf$effCounts <- with(countDf, countToEffCounts(count, length, effLength))"
   ]
  }
 ],
 "metadata": {
  "kernelspec": {
   "display_name": "R",
   "language": "R",
   "name": "ir"
  },
  "language_info": {
   "codemirror_mode": "r",
   "file_extension": ".r",
   "mimetype": "text/x-r-source",
   "name": "R",
   "pygments_lexer": "r",
   "version": "3.3.2"
  }
 },
 "nbformat": 4,
 "nbformat_minor": 0
}
